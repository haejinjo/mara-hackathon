{
 "cells": [
  {
   "cell_type": "code",
   "execution_count": 8,
   "id": "0cd36d4c-143a-4ae5-b796-9cf07966ae53",
   "metadata": {},
   "outputs": [
    {
     "ename": "ModuleNotFoundError",
     "evalue": "No module named 'hashsim'",
     "output_type": "error",
     "traceback": [
      "\u001b[31m---------------------------------------------------------------------------\u001b[39m",
      "\u001b[31mModuleNotFoundError\u001b[39m                       Traceback (most recent call last)",
      "\u001b[36mCell\u001b[39m\u001b[36m \u001b[39m\u001b[32mIn[8]\u001b[39m\u001b[32m, line 2\u001b[39m\n\u001b[32m      1\u001b[39m \u001b[38;5;28;01mimport\u001b[39;00m\u001b[38;5;250m \u001b[39m\u001b[34;01mnumpy\u001b[39;00m\u001b[38;5;250m \u001b[39m\u001b[38;5;28;01mas\u001b[39;00m\u001b[38;5;250m \u001b[39m\u001b[34;01mnp\u001b[39;00m\n\u001b[32m----> \u001b[39m\u001b[32m2\u001b[39m \u001b[38;5;28;01mfrom\u001b[39;00m\u001b[38;5;250m \u001b[39m\u001b[34;01mhashsim\u001b[39;00m\u001b[38;5;250m \u001b[39m\u001b[38;5;28;01mimport\u001b[39;00m LagModel, kernels\n",
      "\u001b[31mModuleNotFoundError\u001b[39m: No module named 'hashsim'"
     ]
    }
   ],
   "source": [
    "import numpy as np\n",
    "from hashsim import LagModel, kernels\n",
    "\n"
   ]
  },
  {
   "cell_type": "code",
   "execution_count": null,
   "id": "59f978c7-41cc-4533-8a5a-7c6cafe5a7e3",
   "metadata": {},
   "outputs": [],
   "source": [
    "# 1.  baseline data (flat power and hashrate)\n",
    "t = np.array([0, 10, 20, 30, 40, 50])\n",
    "P = np.full(t.shape, 200.0)          # W\n",
    "H = np.full(t.shape, 15.0)           # MH/s\n",
    "\n",
    "# 2.  build the model\n",
    "model = LagModel.fit(t, P, H)\n",
    "\n",
    "# 3.  generate a response: from 10 % to 80 % baseline power\n",
    "h_fun = model(10, 80, kernel=\"logistic\", k=0.25, t_half=40)\n",
    "\n",
    "# 4.  evaluate at arbitrary times\n",
    "t_eval = np.linspace(0, 180, 181)\n",
    "h_vals = h_fun(t_eval)               # hashrate vector\n"
   ]
  },
  {
   "cell_type": "code",
   "execution_count": null,
   "id": "c8f7f64c-801e-4c22-bab6-5dd6c8b90394",
   "metadata": {},
   "outputs": [],
   "source": []
  }
 ],
 "metadata": {
  "kernelspec": {
   "display_name": "(mara-env)",
   "language": "python",
   "name": "mara-env"
  },
  "language_info": {
   "codemirror_mode": {
    "name": "ipython",
    "version": 3
   },
   "file_extension": ".py",
   "mimetype": "text/x-python",
   "name": "python",
   "nbconvert_exporter": "python",
   "pygments_lexer": "ipython3",
   "version": "3.11.13"
  }
 },
 "nbformat": 4,
 "nbformat_minor": 5
}
