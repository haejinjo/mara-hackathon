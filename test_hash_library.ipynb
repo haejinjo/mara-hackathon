{
 "cells": [
  {
   "cell_type": "code",
   "execution_count": 1,
   "id": "6ff0f861-f9ac-4c03-a500-373ae98fbc22",
   "metadata": {},
   "outputs": [],
   "source": [
    "from hash_library import HashPricePredictor\n",
    "import numpy as np"
   ]
  },
  {
   "cell_type": "code",
   "execution_count": 11,
   "id": "919118f3-4160-4283-ad2e-9237686cce7e",
   "metadata": {},
   "outputs": [
    {
     "name": "stdout",
     "output_type": "stream",
     "text": [
      "Next-day hash-price prediction: 57.537193298339844\n"
     ]
    }
   ],
   "source": [
    "\n",
    "predictor = HashPricePredictor(\"best_gru.pt\")\n",
    "\n",
    "price_30 = np.random.default_rng(seed=42).uniform(40.0, 60.0, size=30).tolist()\n",
    "\n",
    "y_next = predictor.predict(price_30,\n",
    "                           fng_value=57.0,\n",
    "                           sent_class=\"Greed\",\n",
    "                           temp_mean=15.2,\n",
    "                           days_ahead=1)\n",
    "\n",
    "print(\"Next-day hash-price prediction:\", y_next)\n"
   ]
  },
  {
   "cell_type": "code",
   "execution_count": null,
   "id": "725d1577-a492-4841-b260-ecf107ea2c5c",
   "metadata": {},
   "outputs": [],
   "source": []
  },
  {
   "cell_type": "code",
   "execution_count": null,
   "id": "97beb3d6-8ca1-4832-b969-569924f25712",
   "metadata": {},
   "outputs": [],
   "source": []
  }
 ],
 "metadata": {
  "kernelspec": {
   "display_name": "(mara-env)",
   "language": "python",
   "name": "mara-env"
  },
  "language_info": {
   "codemirror_mode": {
    "name": "ipython",
    "version": 3
   },
   "file_extension": ".py",
   "mimetype": "text/x-python",
   "name": "python",
   "nbconvert_exporter": "python",
   "pygments_lexer": "ipython3",
   "version": "3.11.13"
  }
 },
 "nbformat": 4,
 "nbformat_minor": 5
}
