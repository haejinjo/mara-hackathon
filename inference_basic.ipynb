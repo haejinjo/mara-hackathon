{
 "cells": [
  {
   "cell_type": "code",
   "execution_count": 24,
   "id": "9f5d3ee3-47cc-4f13-9a56-05b1c99693d2",
   "metadata": {},
   "outputs": [],
   "source": [
    "import numpy as np\n",
    "from scipy.optimize import minimize_scalar\n"
   ]
  },
  {
   "cell_type": "code",
   "execution_count": 9,
   "id": "91c0882e-ac6e-451e-875b-02e66e444885",
   "metadata": {},
   "outputs": [],
   "source": []
  },
  {
   "cell_type": "code",
   "execution_count": 11,
   "id": "35b0ff72-9a9f-4485-8788-6fd8051fac57",
   "metadata": {},
   "outputs": [],
   "source": []
  },
  {
   "cell_type": "code",
   "execution_count": 13,
   "id": "007e0613-7cdd-4ff7-80fc-dd229d8cb8c3",
   "metadata": {},
   "outputs": [
    {
     "name": "stdout",
     "output_type": "stream",
     "text": [
      "{'detail': [{'type': 'model_attributes_type', 'loc': ['body'], 'msg': 'Input should be a valid dictionary or object to extract fields from', 'input': 'asic_miners=10&gpu_compute=30&immersion_miners=5'}]}\n"
     ]
    }
   ],
   "source": []
  },
  {
   "cell_type": "code",
   "execution_count": 18,
   "id": "d2167a74-653c-4b48-9116-d8eb5786ceb9",
   "metadata": {},
   "outputs": [
    {
     "name": "stdout",
     "output_type": "stream",
     "text": [
      "=== Profit Calculator Examples ===\n",
      "\n",
      "Profit Inference Example:\n",
      "Tokens: 1000, Token Price: $0.01, Power: 500W, Energy Price: $0.12/kWh\n",
      "Profit: $-50.00\n",
      "\n",
      "Profit Mining Example:\n",
      "Hashrate: 100 MH/s, Hash Price: $0.001/MH/s, Power: 300W, Energy Price: $0.12/kWh\n",
      "Profit: $-35.90\n",
      "\n",
      "Break-even Analysis:\n",
      "For inference to break even (profit = 0):\n",
      "tokens × token_price = power × energy_price\n",
      "tokens = (power × energy_price) / token_price\n",
      "Break-even tokens: 6000 tokens\n"
     ]
    }
   ],
   "source": [
    "def calculate_profit_inference(tokens, token_price, power, energy_price):\n",
    "    \"\"\"\n",
    "    Calculate profit from inference operations.\n",
    "    \n",
    "    Formula: Profit = (tokens × token_price) - (power × energy_price)\n",
    "    \n",
    "    Args:\n",
    "        tokens (float): Number of tokens processed\n",
    "        token_price (float): Money made per token\n",
    "        power (float): Power consumption in watts\n",
    "        energy_price (float): Energy price per watt-hour\n",
    "    \n",
    "    Returns:\n",
    "        float: Profit from inference\n",
    "    \"\"\"\n",
    "    revenue = tokens * token_price\n",
    "    cost = power * energy_price\n",
    "    profit = revenue - cost\n",
    "    return profit\n",
    "\n",
    "\n",
    "def calculate_profit_mining(hashrate, hash_price, power, energy_price):\n",
    "    \"\"\"\n",
    "    Calculate profit from mining operations.\n",
    "    \n",
    "    Formula: Profit = hashrate × hash_price - power × energy_price\n",
    "    \n",
    "    Args:\n",
    "        hashrate (float): Mining hashrate (e.g., MH/s, GH/s)\n",
    "        hash_price (float): Price per hash unit\n",
    "        power (float): Power consumption in watts\n",
    "        energy_price (float): Energy price per watt-hour\n",
    "    \n",
    "    Returns:\n",
    "        float: Profit from mining\n",
    "    \"\"\"\n",
    "    revenue = hashrate * hash_price\n",
    "    cost = power * energy_price\n",
    "    profit = revenue - cost\n",
    "    return profit\n"
   ]
  },
  {
   "cell_type": "code",
   "execution_count": null,
   "id": "a00ad8a7-6a29-4c4c-a8c3-0794625577b4",
   "metadata": {},
   "outputs": [],
   "source": [
    "# Example usage and testing\n",
    "if __name__ == \"__main__\":\n",
    "    print(\"=== Profit Calculator Examples ===\\n\")\n",
    "    \n",
    "    # Example 1: Profit Inference\n",
    "    print(\"Profit Inference Example:\")\n",
    "    print(\"Tokens: 1000, Token Price: $0.01, Power: 500W, Energy Price: $0.12/kWh\")\n",
    "    profit_inference = calculate_profit_inference(\n",
    "        tokens=1000,      # 1000 tokens processed\n",
    "        token_price=0.01, # $0.01 per token\n",
    "        power=500,        # 500 watts\n",
    "        energy_price=0.12 # $0.12 per kWh\n",
    "    )\n",
    "    print(f\"Profit: ${profit_inference:.2f}\\n\")\n",
    "    \n",
    "    # Example 2: Profit Mining\n",
    "    print(\"Profit Mining Example:\")\n",
    "    print(\"Hashrate: 100 MH/s, Hash Price: $0.001/MH/s, Power: 300W, Energy Price: $0.12/kWh\")\n",
    "    profit_mining = calculate_profit_mining(\n",
    "        hashrate=100,     # 100 MH/s\n",
    "        hash_price=0.001, # $0.001 per MH/s\n",
    "        power=300,        # 300 watts\n",
    "        energy_price=0.12 # $0.12 per kWh\n",
    "    )\n",
    "    print(f\"Profit: ${profit_mining:.2f}\\n\")\n",
    "    \n",
    "    # Example 3: Break-even analysis\n",
    "    print(\"Break-even Analysis:\")\n",
    "    print(\"For inference to break even (profit = 0):\")\n",
    "    print(\"tokens × token_price = power × energy_price\")\n",
    "    print(\"tokens = (power × energy_price) / token_price\")\n",
    "    \n",
    "    # Calculate break-even tokens\n",
    "    power_example = 500\n",
    "    energy_price_example = 0.12\n",
    "    token_price_example = 0.01\n",
    "    \n",
    "    break_even_tokens = (power_example * energy_price_example) / token_price_example\n",
    "    print(f\"Break-even tokens: {break_even_tokens:.0f} tokens\")"
   ]
  },
  {
   "cell_type": "code",
   "execution_count": 37,
   "id": "22bd3ab1-3d66-4cda-b097-42a27c5e3cd0",
   "metadata": {},
   "outputs": [
    {
     "ename": "IndentationError",
     "evalue": "unindent does not match any outer indentation level (<tokenize>, line 10)",
     "output_type": "error",
     "traceback": [
      "  \u001b[36mFile \u001b[39m\u001b[32m<tokenize>:10\u001b[39m\n\u001b[31m    \u001b[39m\u001b[31m},\u001b[39m\n    ^\n\u001b[31mIndentationError\u001b[39m\u001b[31m:\u001b[39m unindent does not match any outer indentation level\n"
     ]
    }
   ],
   "source": [
    "ing=\"\"inference\": { \"asic\": {\"power\": 15000, \"tokens\": 50000},\n",
    "    \"gpu\": {\"power\": 5000, \"tokens\": 1000}\n",
    "},\n",
    "miners=\"\"\"{\"air\": {\"hashrate\": 1000, \"power\": 3500},\n",
    "    \"hydro\": {\"hashrate\": 5000, \"power\": 5000},\n",
    "    \"immersion\": {\"hashrate\": 10000, \"power\": 10000}}\"\"\"\n",
    "# Consolidate into a single dict\n",
    "machines = {\n",
    "    \"inference\": {\n",
    "        \"asic\": {\"power\": 15000, \"tokens\": 50000},\n",
    "        \"gpu\": {\"power\": 5000, \"tokens\": 1000}\n",
    "    },\n",
    "    \"miners\": {\n",
    "        \"air\": {\"hashrate\": 1000, \"power\": 3500},\n",
    "        \"hydro\": {\"hashrate\": 5000, \"power\": 5000},\n",
    "        \"immersion\": {\"hashrate\": 10000, \"power\": 10000}\n",
    "    }\n",
    "}"
   ]
  },
  {
   "cell_type": "code",
   "execution_count": null,
   "id": "30f906c6-d637-4f9d-a6b6-26b82c9747c1",
   "metadata": {},
   "outputs": [],
   "source": []
  }
 ],
 "metadata": {
  "kernelspec": {
   "display_name": "(mara-env)",
   "language": "python",
   "name": "mara-env"
  },
  "language_info": {
   "codemirror_mode": {
    "name": "ipython",
    "version": 3
   },
   "file_extension": ".py",
   "mimetype": "text/x-python",
   "name": "python",
   "nbconvert_exporter": "python",
   "pygments_lexer": "ipython3",
   "version": "3.11.13"
  }
 },
 "nbformat": 4,
 "nbformat_minor": 5
}
